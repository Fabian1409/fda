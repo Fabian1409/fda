{
  "nbformat": 4,
  "nbformat_minor": 0,
  "metadata": {
    "colab": {
      "provenance": [],
      "toc_visible": true
    },
    "kernelspec": {
      "name": "python3",
      "display_name": "Python 3"
    },
    "language_info": {
      "name": "python"
    }
  },
  "cells": [
    {
      "cell_type": "markdown",
      "source": [
        "# Project 1 -- Time and Global State\n",
        "\n",
        "## Instructions\n",
        "\n",
        "Please read carefully:\n",
        "\n",
        "* Solve the project yourself. No teamwork.\n",
        "* If you have questions, post these in the public channel on Slack. The answers may be relevant to others as well.\n",
        "* Feel free to import and use any additional Python package you need.\n",
        "* Keep in mind that the correctness of your solution will also be verified on a *different input file*. This means that you are asked to provide an algorithm, not to hardcode your answer. If your solution for a task works only on the provided input (i.e., `sampledb.log` file), but does not work on the held back input, you will get only 50% of the points for that task.\n",
        "* You are allowed to solve the project using a different programming language. In this case, please send me your full code and instructions how to run it.\n",
        "* Make sure to fill in your `student_name` in the following block below."
      ],
      "metadata": {
        "id": "hIG3sDBFyebw"
      }
    },
    {
      "cell_type": "code",
      "source": [
        "student_name = 'your_student_name' # fill with your student name\n",
        "assert student_name != 'your_student_name', 'Please fill in your student_name before you start.'"
      ],
      "metadata": {
        "id": "NRQm4C5L0AsG"
      },
      "execution_count": null,
      "outputs": []
    },
    {
      "cell_type": "markdown",
      "source": [
        "## Setup\n",
        "\n",
        "In this mini-project, you will use your knowledge of logical clocks to analyse a sample distributed system execution. You are given a sample log file `sampledb.log` containing an event log of five communicating processes: Alice, Bob, Carol, Dave and Eve. The log file format is as follows:\n",
        "```\n",
        "(<event name>)\\n(<host>) (<local_clock>)\n",
        "```\n",
        "The code below installs the utility `gdown` and downloads `sampledb.log`."
      ],
      "metadata": {
        "id": "2aL0oIQ0z-9F"
      }
    },
    {
      "cell_type": "code",
      "execution_count": null,
      "metadata": {
        "id": "WFgW2nEdyX7r"
      },
      "outputs": [],
      "source": [
        "# DO NOT CHANGE THESE LINES\n",
        "!pip install gdown\n",
        "!gdown https://drive.google.com/file/d/1s7BALY1RQyHjk06Okul7_lwUpoizZVNZ/view?usp=sharing --fuzzy"
      ]
    },
    {
      "cell_type": "markdown",
      "source": [
        "To inspect the `sampledb.log` file click on the folder icon in your Google Colab called `Files` on the left.\n",
        "\n",
        "Examples of events in the log file:\n",
        "* Event `Making progress` finished on the host `Bob` at its local time 2.\n",
        "```\n",
        "Making progress\n",
        "Bob {\"Bob\":2}\n",
        "```\n",
        "* Event `Receive event` is a message receive event at the host `Alice` at its local clock time 3. The message comes from the host `Bob` sent at its local time 2.\n",
        "```\n",
        "Receive event\n",
        "Alice {\"Alice\":3, \"Bob\":2}\n",
        "```\n",
        "* Event `Checkpoint` takes place on the host `Carol` at its local time 12.\n",
        "```\n",
        "Checkpoint\n",
        "Carol {\"Carol\":12}\n",
        "```\n",
        "\n",
        "The code below will help you to correctly parse the input file."
      ],
      "metadata": {
        "id": "KCzktHUUM3oD"
      }
    },
    {
      "cell_type": "code",
      "source": [
        "# DO NOT CHANGE THESE LINES\n",
        "import re\n",
        "import ast\n",
        "\n",
        "regex = '(.*)\\n(\\S*) ({.*})'\n",
        "events = []\n",
        "\n",
        "with open(f'sampledb.log') as f:\n",
        "    events = [{'event': event, 'host': host, 'clock': ast.literal_eval(clock)}\n",
        "               for event, host, clock in re.findall(regex, f.read())]\n",
        "print('Events:', events)\n",
        "print('Total number of events:', len(events))"
      ],
      "metadata": {
        "id": "80QhwUJjBA06"
      },
      "execution_count": null,
      "outputs": []
    },
    {
      "cell_type": "markdown",
      "source": [
        "## 1 - Visualize Execution [5+ points]\n",
        "\n",
        "**Your task:** Visualize the execution (similarly to the visualizations in the lecture). The author of the best visualization gets 3 points on top!"
      ],
      "metadata": {
        "id": "-kfZ2QiXKPhu"
      }
    },
    {
      "cell_type": "code",
      "source": [
        "### START CODE HERE ###\n",
        "None\n",
        "### END CODE HERE ###"
      ],
      "metadata": {
        "id": "XpFTw8EDJ9Wl"
      },
      "execution_count": null,
      "outputs": []
    },
    {
      "cell_type": "markdown",
      "source": [
        "## 2 - Count Concurrent Events [5 points]\n",
        "\n",
        "**Your task**: Count the *total number of unique* concurrent event pairs in the log file."
      ],
      "metadata": {
        "id": "fbXvxZ2AJ984"
      }
    },
    {
      "cell_type": "code",
      "source": [
        "def count_concurrent_events(events):\n",
        "  ### START CODE HERE ###\n",
        "  None\n",
        "  ### END CODE HERE ###\n",
        "\n",
        "print('Number of concurrent event pairs:', count_concurrent_events(events))"
      ],
      "metadata": {
        "id": "fhc9XKyU41YB"
      },
      "execution_count": null,
      "outputs": []
    },
    {
      "cell_type": "markdown",
      "source": [
        "## 3 - Assign Vector Clocks [4 points]\n",
        "\n",
        "**Your task:** Assign vector timestamps to each event. Annotate the event captions with the corresponting vector timestamp. E.g.,\n",
        "```\n",
        "`Dummy event` --> `Dummy event [0,12,2,4,0]`.\n",
        "```\n",
        "Return a new list of annotated events."
      ],
      "metadata": {
        "id": "1GoQ-dbnPGdk"
      }
    },
    {
      "cell_type": "code",
      "source": [
        "def assign_vector_timestamps(events):\n",
        "  ### START CODE HERE ###\n",
        "  None\n",
        "  ### END CODE HERE ###\n",
        "\n",
        "print(assign_vector_timestamps(events))"
      ],
      "metadata": {
        "id": "VcK9zClDNWYL"
      },
      "execution_count": null,
      "outputs": []
    },
    {
      "cell_type": "markdown",
      "source": [
        "## 4 - Rollback Recovery [6 points]\n",
        "All events annotated with the `Checkpoint` in the title are checkpointing events. According to the provided log file `sampledb.log`, the hosts Alice, Bob, Carol, Dave and Eve are at their logical time 17, 22, 20, 18 and 17 respectively. Once of a sudden, Bob fails and has to roll back at least to its latest checkpoint.\n",
        "\n",
        "**Your task:** Write an algorithm to calculate the correct recovery line (= a list of checkpoint events) given one or multiple host failures."
      ],
      "metadata": {
        "id": "hC1QuYiHzJpt"
      }
    },
    {
      "cell_type": "code",
      "source": [
        "def recovery_line(events, failed_processes):\n",
        "  ### START CODE HERE ###\n",
        "  None\n",
        "  ### END CODE HERE ###\n",
        "\n",
        "print(\"Computed recovery line: \", recovery_line(events, [\"Bob\"]))"
      ],
      "metadata": {
        "id": "DIZcUW3EyykH"
      },
      "execution_count": null,
      "outputs": []
    },
    {
      "cell_type": "markdown",
      "source": [
        "## 5 - How to Submit Your Solution?\n",
        "Download your notebook (File --> Download --> Download .ipynb) and send per email to [saukh@tugraz.at](mailto:saukh@tugraz.at)."
      ],
      "metadata": {
        "id": "5AXgCZ6pzoO4"
      }
    },
    {
      "cell_type": "code",
      "source": [],
      "metadata": {
        "id": "i8D4VSnBT5Iz"
      },
      "execution_count": null,
      "outputs": []
    }
  ]
}